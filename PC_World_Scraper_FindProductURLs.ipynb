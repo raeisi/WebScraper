{
 "cells": [
  {
   "cell_type": "markdown",
   "metadata": {},
   "source": [
    "# This code extract URL link for all the Laptops on the PCWorld.com"
   ]
  },
  {
   "cell_type": "code",
   "execution_count": 1,
   "metadata": {},
   "outputs": [],
   "source": [
    "#Import BeautifulSoup and couple of other modules\n",
    "from bs4 import BeautifulSoup as soup\n",
    "import requests\n",
    "import pandas as pd\n",
    "import numpy as np\n",
    "import math"
   ]
  },
  {
   "cell_type": "code",
   "execution_count": 2,
   "metadata": {},
   "outputs": [
    {
     "name": "stdout",
     "output_type": "stream",
     "text": [
      "https://www.pcworld.co.uk/gbuk/computing/laptops/laptops/703_7006_70006_xx_xx/xx-criteria.html\n"
     ]
    }
   ],
   "source": [
    "#Setting my_url to be the ALL Laptops Page on PCWorld.co.uk\n",
    "shop_web_addr = 'https://www.pcworld.co.uk'\n",
    "laptops_link = '/gbuk/computing/laptops/laptops/703_7006_70006_xx_xx/xx-criteria.html'\n",
    "my_url = shop_web_addr+laptops_link\n",
    "print(my_url)"
   ]
  },
  {
   "cell_type": "code",
   "execution_count": 3,
   "metadata": {},
   "outputs": [],
   "source": [
    "#Extracting HTML from my_url (All Laptops) \n",
    "page = requests.get(my_url)\n",
    "page_html = page.text\n",
    "page_soup = soup(page_html, 'html.parser')"
   ]
  },
  {
   "cell_type": "code",
   "execution_count": 4,
   "metadata": {},
   "outputs": [
    {
     "data": {
      "text/plain": [
       "<h1 class=\"logo\" id=\"logo\">\n",
       "<a href=\"https://www.pcworld.co.uk/gbuk/index.html\" title=\"Back to home\">\n",
       "<img alt=\"Pcworld\" src=\"https://pcw-ssl.cdn.dixons.com/grafx/gb/uk/header/logo/logo_pcw_logo.png\"/>\n",
       "</a>\n",
       "</h1>"
      ]
     },
     "execution_count": 4,
     "metadata": {},
     "output_type": "execute_result"
    }
   ],
   "source": [
    "#Check the header of the the Page Soup\n",
    "page_soup.h1"
   ]
  },
  {
   "cell_type": "code",
   "execution_count": 5,
   "metadata": {},
   "outputs": [
    {
     "name": "stdout",
     "output_type": "stream",
     "text": [
      "There are in total 317 Laptops Listed\n"
     ]
    }
   ],
   "source": [
    "#Checking the number of the laptops listed at the time of inquiry\n",
    "pagn_id = page_soup.find(\"span\", {\"class\":\"desktop\"})\n",
    "st=page_soup.find(\"strong\")\n",
    "st.contents[-1].split()[4]\n",
    "print('There are in total', st.contents[-1].split()[4], 'Laptops Listed')"
   ]
  },
  {
   "cell_type": "code",
   "execution_count": 6,
   "metadata": {},
   "outputs": [
    {
     "name": "stdout",
     "output_type": "stream",
     "text": [
      "Search has total 16 result pages\n"
     ]
    }
   ],
   "source": [
    "data=page_soup.find(\"strong\").contents[-1].split()\n",
    "last_pagn = math.ceil(int(data[4])/int(data[2]))\n",
    "print('Search has total', last_pagn, 'result pages')"
   ]
  },
  {
   "cell_type": "code",
   "execution_count": 7,
   "metadata": {},
   "outputs": [
    {
     "name": "stdout",
     "output_type": "stream",
     "text": [
      "['https://www.pcworld.co.uk/gbuk/computing/laptops/laptops/703_7006_70006_xx_xx/', '_20/relevance-desc/xx-criteria.html']\n"
     ]
    }
   ],
   "source": [
    "#Extracting Static Parts of the URL on each page\n",
    "page_link_parts = page_soup.find(\"ul\", {\"class\":\"pagination\"}).findAll('li')[1].a['href'].split('_20')\n",
    "page_link_parts = [page_link_parts[0][:-1],'_20'+page_link_parts[1]]\n",
    "print(page_link_parts)"
   ]
  },
  {
   "cell_type": "code",
   "execution_count": 8,
   "metadata": {},
   "outputs": [
    {
     "data": {
      "text/plain": [
       "'https://www.pcworld.co.uk/gbuk/computing/laptops/laptops/hp-14-bp070sa-14-laptop-white-10169031-pdt.html'"
      ]
     },
     "execution_count": 8,
     "metadata": {},
     "output_type": "execute_result"
    }
   ],
   "source": [
    "#extracting a sample laptop link from the page\n",
    "results = page_soup.findAll('article', {'class':'product result-prd'})\n",
    "link=results[0].find('div', {'class':'desc'}).a['href']\n",
    "link"
   ]
  },
  {
   "cell_type": "code",
   "execution_count": 9,
   "metadata": {},
   "outputs": [
    {
     "name": "stdout",
     "output_type": "stream",
     "text": [
      "0 https://www.pcworld.co.uk/gbuk/computing/laptops/laptops/703_7006_70006_xx_xx/1_20/relevance-desc/xx-criteria.html\n",
      "200\n",
      "1 https://www.pcworld.co.uk/gbuk/computing/laptops/laptops/703_7006_70006_xx_xx/2_20/relevance-desc/xx-criteria.html\n",
      "200\n",
      "2 https://www.pcworld.co.uk/gbuk/computing/laptops/laptops/703_7006_70006_xx_xx/3_20/relevance-desc/xx-criteria.html\n",
      "200\n",
      "3 https://www.pcworld.co.uk/gbuk/computing/laptops/laptops/703_7006_70006_xx_xx/4_20/relevance-desc/xx-criteria.html\n",
      "200\n",
      "4 https://www.pcworld.co.uk/gbuk/computing/laptops/laptops/703_7006_70006_xx_xx/5_20/relevance-desc/xx-criteria.html\n",
      "200\n",
      "5 https://www.pcworld.co.uk/gbuk/computing/laptops/laptops/703_7006_70006_xx_xx/6_20/relevance-desc/xx-criteria.html\n",
      "200\n",
      "6 https://www.pcworld.co.uk/gbuk/computing/laptops/laptops/703_7006_70006_xx_xx/7_20/relevance-desc/xx-criteria.html\n",
      "200\n",
      "7 https://www.pcworld.co.uk/gbuk/computing/laptops/laptops/703_7006_70006_xx_xx/8_20/relevance-desc/xx-criteria.html\n",
      "200\n",
      "8 https://www.pcworld.co.uk/gbuk/computing/laptops/laptops/703_7006_70006_xx_xx/9_20/relevance-desc/xx-criteria.html\n",
      "200\n",
      "9 https://www.pcworld.co.uk/gbuk/computing/laptops/laptops/703_7006_70006_xx_xx/10_20/relevance-desc/xx-criteria.html\n",
      "200\n",
      "10 https://www.pcworld.co.uk/gbuk/computing/laptops/laptops/703_7006_70006_xx_xx/11_20/relevance-desc/xx-criteria.html\n",
      "200\n",
      "11 https://www.pcworld.co.uk/gbuk/computing/laptops/laptops/703_7006_70006_xx_xx/12_20/relevance-desc/xx-criteria.html\n",
      "200\n",
      "12 https://www.pcworld.co.uk/gbuk/computing/laptops/laptops/703_7006_70006_xx_xx/13_20/relevance-desc/xx-criteria.html\n",
      "200\n",
      "13 https://www.pcworld.co.uk/gbuk/computing/laptops/laptops/703_7006_70006_xx_xx/14_20/relevance-desc/xx-criteria.html\n",
      "200\n",
      "14 https://www.pcworld.co.uk/gbuk/computing/laptops/laptops/703_7006_70006_xx_xx/15_20/relevance-desc/xx-criteria.html\n",
      "200\n",
      "15 https://www.pcworld.co.uk/gbuk/computing/laptops/laptops/703_7006_70006_xx_xx/16_20/relevance-desc/xx-criteria.html\n",
      "200\n"
     ]
    }
   ],
   "source": [
    "#Extracting all Laptops URLs from all pages\n",
    "urls = []\n",
    "n=0\n",
    "headers = {'User-Agent': 'Mozilla/5.0 (X11; Linux x86_64) AppleWebKit/537.36 (KHTML, like Gecko) Chrome/42.0.2311.90 Safari/537.36'}\n",
    "for pagn in list(range(1,last_pagn+1)):\n",
    "    page_link = page_link_parts[0]+str(pagn)+page_link_parts[1]\n",
    "    print(n, page_link)\n",
    "    #Openning up connection, grabbing the page\n",
    "    page = requests.get(page_link, headers=headers)\n",
    "    while page.status_code == 503:\n",
    "        #print('Service Unavailable \"Response Code 503\"')\n",
    "        page = requests.get(page_link, headers=headers)\n",
    "    print(page.status_code)\n",
    "    page_html = page.text\n",
    "    # Html Parsing\n",
    "    page_soup = soup(page_html, 'html.parser')\n",
    "    #print(page_soup)\n",
    "    #print(page_soup.h1)\n",
    "    page_soup.findAll('article', {'class':'product result-prd'})\n",
    "    for result in results:\n",
    "        try:\n",
    "            urls.append(result.find('div', {'class':'desc'}).a['href'])\n",
    "        except:\n",
    "            print(result)\n",
    "            pass\n",
    "    n=n+1"
   ]
  },
  {
   "cell_type": "code",
   "execution_count": 10,
   "metadata": {},
   "outputs": [
    {
     "data": {
      "text/plain": [
       "['https://www.pcworld.co.uk/gbuk/computing/laptops/laptops/hp-14-bp070sa-14-laptop-white-10169031-pdt.html',\n",
       " 'https://www.pcworld.co.uk/gbuk/computing/laptops/laptops/hp-14-bp069sa-14-laptop-black-10169033-pdt.html',\n",
       " 'https://www.pcworld.co.uk/gbuk/computing/laptops/laptops/hp-14-bp068sa-14-laptop-marine-blue-10169355-pdt.html',\n",
       " 'https://www.pcworld.co.uk/gbuk/computing/laptops/laptops/hp-14-bp059sa-14-laptop-jet-black-10166575-pdt.html',\n",
       " 'https://www.pcworld.co.uk/gbuk/computing/laptops/laptops/thomson-neo10-10-1-laptop-white-10175040-pdt.html']"
      ]
     },
     "execution_count": 10,
     "metadata": {},
     "output_type": "execute_result"
    }
   ],
   "source": [
    "#Checking top 4 URLs\n",
    "urls[:5]"
   ]
  },
  {
   "cell_type": "code",
   "execution_count": 11,
   "metadata": {},
   "outputs": [],
   "source": [
    "#Pickle the URLs\n",
    "import pickle\n",
    "\n",
    "with open('PC_World_Urls.pickle', 'wb') as fp:\n",
    "    pickle.dump(urls, fp)\n"
   ]
  }
 ],
 "metadata": {
  "kernelspec": {
   "display_name": "Python 3",
   "language": "python",
   "name": "python3"
  },
  "language_info": {
   "codemirror_mode": {
    "name": "ipython",
    "version": 3
   },
   "file_extension": ".py",
   "mimetype": "text/x-python",
   "name": "python",
   "nbconvert_exporter": "python",
   "pygments_lexer": "ipython3",
   "version": "3.6.0"
  }
 },
 "nbformat": 4,
 "nbformat_minor": 2
}
